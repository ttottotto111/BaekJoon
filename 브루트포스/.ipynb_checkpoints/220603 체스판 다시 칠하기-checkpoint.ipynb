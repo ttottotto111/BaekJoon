{
 "cells": [
  {
   "cell_type": "code",
   "execution_count": 56,
   "id": "4083fede",
   "metadata": {
    "scrolled": false
   },
   "outputs": [
    {
     "name": "stdout",
     "output_type": "stream",
     "text": [
      "9 23\n",
      "BBBBBBBBBBBBBBBBBBBBBBB BBBBBBBBBBBBBBBBBBBBBBB BBBBBBBBBBBBBBBBBBBBBBB BBBBBBBBBBBBBBBBBBBBBBB BBBBBBBBBBBBBBBBBBBBBBB BBBBBBBBBBBBBBBBBBBBBBB BBBBBBBBBBBBBBBBBBBBBBB BBBBBBBBBBBBBBBBBBBBBBB BBBBBBBBBBBBBBBBBBBBBBW\n",
      "31\n"
     ]
    }
   ],
   "source": [
    "y,x = map(int, input().split())\n",
    "\n",
    "all_chess = list()\n",
    "for i in range(y):\n",
    "    all_chess.append(list(input()))\n",
    "\n",
    "B_chess = ['B','W','B','W','B','W','B','W']\n",
    "W_chess = ['W','B','W','B','W','B','W','B']\n",
    "\n",
    "# 체스판 추출\n",
    "result = list()\n",
    "for i in range(0,y-7):\n",
    "    for j in range(0,x-7):\n",
    "        chess = []\n",
    "        count1 = 0\n",
    "        count2 = 0\n",
    "\n",
    "        # 8*8 체스판 추출\n",
    "        for c in range(i,i+8):\n",
    "            if len(all_chess) >= i+8 and len(all_chess[c]) >=j+8: \n",
    "                chess.append(all_chess[c][j:j+8])\n",
    "        \n",
    "        # B로 시작할경우\n",
    "        for a in range(8):\n",
    "            for b in range(8):\n",
    "                if a%2 == 0:\n",
    "                    if chess[a][b] != B_chess[b]:\n",
    "                        count1 += 1\n",
    "                    if chess[a][b] != W_chess[b]:\n",
    "                        count2 += 1\n",
    "                else:\n",
    "                    if chess[a][b] != W_chess[b]:\n",
    "                        count1 += 1\n",
    "                    if chess[a][b] != B_chess[b]:\n",
    "                        count2 += 1\n",
    "                        \n",
    "        result.append(min(count1, count2))\n",
    "\n",
    "print(min(result))"
   ]
  }
 ],
 "metadata": {
  "kernelspec": {
   "display_name": "Python 3 (ipykernel)",
   "language": "python",
   "name": "python3"
  },
  "language_info": {
   "codemirror_mode": {
    "name": "ipython",
    "version": 3
   },
   "file_extension": ".py",
   "mimetype": "text/x-python",
   "name": "python",
   "nbconvert_exporter": "python",
   "pygments_lexer": "ipython3",
   "version": "3.9.7"
  }
 },
 "nbformat": 4,
 "nbformat_minor": 5
}
