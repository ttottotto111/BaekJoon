{
 "cells": [
  {
   "cell_type": "code",
   "execution_count": 14,
   "id": "03950f10",
   "metadata": {},
   "outputs": [
    {
     "name": "stdout",
     "output_type": "stream",
     "text": [
      "5\n",
      "55 185\n",
      "58 183\n",
      "88 186\n",
      "60 175\n",
      "46 155\n",
      "2\n",
      "2\n",
      "1\n",
      "2\n",
      "5\n"
     ]
    }
   ],
   "source": [
    "# 총 횟수 입력\n",
    "num = input()\n",
    "\n",
    "# 덩치 리스트에 추가\n",
    "big = []\n",
    "for i in range(int(num)):\n",
    "    t = ()\n",
    "    a = input().split(' ')\n",
    "    a[0] = int(a[0])\n",
    "    a[1] = int(a[1])\n",
    "    big.append(a)\n",
    "\n",
    "#덩치 비교\n",
    "for i in range(int(num)):\n",
    "    name1 = big[i]\n",
    "    count = 1\n",
    "    \n",
    "    for b in big:\n",
    "        # 덩치가 같을경우\n",
    "        if name1 == b:\n",
    "            continue\n",
    "        \n",
    "        #덩치가 클경우\n",
    "        if name1[0] < b[0] and name1[1] < b[1]:\n",
    "            count += 1\n",
    "            \n",
    "    print(count)"
   ]
  }
 ],
 "metadata": {
  "kernelspec": {
   "display_name": "Python 3 (ipykernel)",
   "language": "python",
   "name": "python3"
  },
  "language_info": {
   "codemirror_mode": {
    "name": "ipython",
    "version": 3
   },
   "file_extension": ".py",
   "mimetype": "text/x-python",
   "name": "python",
   "nbconvert_exporter": "python",
   "pygments_lexer": "ipython3",
   "version": "3.9.7"
  }
 },
 "nbformat": 4,
 "nbformat_minor": 5
}
