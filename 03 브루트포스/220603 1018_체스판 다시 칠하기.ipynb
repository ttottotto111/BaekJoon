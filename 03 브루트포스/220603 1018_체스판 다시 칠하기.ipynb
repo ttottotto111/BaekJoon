{
 "cells": [
  {
   "cell_type": "markdown",
   "id": "e5b86782",
   "metadata": {},
   "source": [
    "지민이는 자신의 저택에서 MN개의 단위 정사각형으로 나누어져 있는 M×N 크기의 보드를 찾았다. 어떤 정사각형은 검은색으로 칠해져 있고, 나머지는 흰색으로 칠해져 있다. 지민이는 이 보드를 잘라서 8×8 크기의 체스판으로 만들려고 한다.\n",
    "\n",
    "체스판은 검은색과 흰색이 번갈아서 칠해져 있어야 한다. 구체적으로, 각 칸이 검은색과 흰색 중 하나로 색칠되어 있고, 변을 공유하는 두 개의 사각형은 다른 색으로 칠해져 있어야 한다. 따라서 이 정의를 따르면 체스판을 색칠하는 경우는 두 가지뿐이다. 하나는 맨 왼쪽 위 칸이 흰색인 경우, 하나는 검은색인 경우이다.\n",
    "\n",
    "보드가 체스판처럼 칠해져 있다는 보장이 없어서, 지민이는 8×8 크기의 체스판으로 잘라낸 후에 몇 개의 정사각형을 다시 칠해야겠다고 생각했다. 당연히 8*8 크기는 아무데서나 골라도 된다. 지민이가 다시 칠해야 하는 정사각형의 최소 개수를 구하는 프로그램을 작성하시오."
   ]
  },
  {
   "cell_type": "code",
   "execution_count": 56,
   "id": "4083fede",
   "metadata": {
    "scrolled": false
   },
   "outputs": [
    {
     "name": "stdout",
     "output_type": "stream",
     "text": [
      "9 23\n",
      "BBBBBBBBBBBBBBBBBBBBBBB BBBBBBBBBBBBBBBBBBBBBBB BBBBBBBBBBBBBBBBBBBBBBB BBBBBBBBBBBBBBBBBBBBBBB BBBBBBBBBBBBBBBBBBBBBBB BBBBBBBBBBBBBBBBBBBBBBB BBBBBBBBBBBBBBBBBBBBBBB BBBBBBBBBBBBBBBBBBBBBBB BBBBBBBBBBBBBBBBBBBBBBW\n",
      "31\n"
     ]
    }
   ],
   "source": [
    "y,x = map(int, input().split())\n",
    "\n",
    "all_chess = list()\n",
    "for i in range(y):\n",
    "    all_chess.append(list(input()))\n",
    "\n",
    "B_chess = ['B','W','B','W','B','W','B','W']\n",
    "W_chess = ['W','B','W','B','W','B','W','B']\n",
    "\n",
    "# 체스판 추출\n",
    "result = list()\n",
    "for i in range(0,y-7):\n",
    "    for j in range(0,x-7):\n",
    "        chess = []\n",
    "        count1 = 0\n",
    "        count2 = 0\n",
    "\n",
    "        # 8*8 체스판 추출\n",
    "        for c in range(i,i+8):\n",
    "            if len(all_chess) >= i+8 and len(all_chess[c]) >=j+8: \n",
    "                chess.append(all_chess[c][j:j+8])\n",
    "        \n",
    "        # B로 시작할경우\n",
    "        for a in range(8):\n",
    "            for b in range(8):\n",
    "                if a%2 == 0:\n",
    "                    if chess[a][b] != B_chess[b]:\n",
    "                        count1 += 1\n",
    "                    if chess[a][b] != W_chess[b]:\n",
    "                        count2 += 1\n",
    "                else:\n",
    "                    if chess[a][b] != W_chess[b]:\n",
    "                        count1 += 1\n",
    "                    if chess[a][b] != B_chess[b]:\n",
    "                        count2 += 1\n",
    "                        \n",
    "        result.append(min(count1, count2))\n",
    "\n",
    "print(min(result))"
   ]
  }
 ],
 "metadata": {
  "kernelspec": {
   "display_name": "Python 3.9.7 ('base')",
   "language": "python",
   "name": "python3"
  },
  "language_info": {
   "codemirror_mode": {
    "name": "ipython",
    "version": 3
   },
   "file_extension": ".py",
   "mimetype": "text/x-python",
   "name": "python",
   "nbconvert_exporter": "python",
   "pygments_lexer": "ipython3",
   "version": "3.9.7"
  },
  "vscode": {
   "interpreter": {
    "hash": "2858cd4b6c7af27ef9420d7b9c791b223b2a29c61f54d694d4b24ac49e89b72a"
   }
  }
 },
 "nbformat": 4,
 "nbformat_minor": 5
}
