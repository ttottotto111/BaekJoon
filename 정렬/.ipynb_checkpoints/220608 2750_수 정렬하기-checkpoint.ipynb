{
 "cells": [
  {
   "cell_type": "code",
   "execution_count": 11,
   "id": "3191accf",
   "metadata": {
    "scrolled": true
   },
   "outputs": [
    {
     "name": "stdout",
     "output_type": "stream",
     "text": [
      "5\n",
      "66\n",
      "44\n",
      "22\n",
      "42\n",
      "67\n",
      "22\n",
      "42\n",
      "44\n",
      "66\n",
      "67\n"
     ]
    }
   ],
   "source": [
    "a = int(input())\n",
    "\n",
    "# 집합에 저장\n",
    "num = []\n",
    "for i in range(a):\n",
    "    num.append(int(input()))\n",
    "\n",
    "#정렬\n",
    "num.sort()\n",
    "\n",
    "for n in num:\n",
    "    print(n)"
   ]
  }
 ],
 "metadata": {
  "kernelspec": {
   "display_name": "Python 3 (ipykernel)",
   "language": "python",
   "name": "python3"
  },
  "language_info": {
   "codemirror_mode": {
    "name": "ipython",
    "version": 3
   },
   "file_extension": ".py",
   "mimetype": "text/x-python",
   "name": "python",
   "nbconvert_exporter": "python",
   "pygments_lexer": "ipython3",
   "version": "3.9.7"
  }
 },
 "nbformat": 4,
 "nbformat_minor": 5
}
